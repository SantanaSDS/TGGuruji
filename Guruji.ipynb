{
  "nbformat": 4,
  "nbformat_minor": 0,
  "metadata": {
    "colab": {
      "provenance": [],
      "authorship_tag": "ABX9TyO3a1OzyWHtuRFjDHvluJc5",
      "include_colab_link": true
    },
    "kernelspec": {
      "name": "python3",
      "display_name": "Python 3"
    },
    "language_info": {
      "name": "python"
    }
  },
  "cells": [
    {
      "cell_type": "markdown",
      "metadata": {
        "id": "view-in-github",
        "colab_type": "text"
      },
      "source": [
        "<a href=\"https://colab.research.google.com/github/SantanaSDS/TGGuruji/blob/main/Guruji.ipynb\" target=\"_parent\"><img src=\"https://colab.research.google.com/assets/colab-badge.svg\" alt=\"Open In Colab\"/></a>"
      ]
    },
    {
      "cell_type": "code",
      "source": [
        "pip install aiogram requests pandas lxml"
      ],
      "metadata": {
        "colab": {
          "base_uri": "https://localhost:8080/"
        },
        "id": "6y65WXNdtSse",
        "outputId": "b823b327-77cc-4fb4-ba81-160c152e07eb"
      },
      "execution_count": null,
      "outputs": [
        {
          "output_type": "stream",
          "name": "stdout",
          "text": [
            "Requirement already satisfied: aiogram in /usr/local/lib/python3.11/dist-packages (3.18.0)\n",
            "Requirement already satisfied: requests in /usr/local/lib/python3.11/dist-packages (2.32.3)\n",
            "Requirement already satisfied: pandas in /usr/local/lib/python3.11/dist-packages (2.2.2)\n",
            "Requirement already satisfied: lxml in /usr/local/lib/python3.11/dist-packages (5.3.1)\n",
            "Requirement already satisfied: aiofiles<24.2,>=23.2.1 in /usr/local/lib/python3.11/dist-packages (from aiogram) (24.1.0)\n",
            "Requirement already satisfied: aiohttp<3.12,>=3.9.0 in /usr/local/lib/python3.11/dist-packages (from aiogram) (3.11.12)\n",
            "Requirement already satisfied: certifi>=2023.7.22 in /usr/local/lib/python3.11/dist-packages (from aiogram) (2025.1.31)\n",
            "Requirement already satisfied: magic-filter<1.1,>=1.0.12 in /usr/local/lib/python3.11/dist-packages (from aiogram) (1.0.12)\n",
            "Requirement already satisfied: pydantic<2.11,>=2.4.1 in /usr/local/lib/python3.11/dist-packages (from aiogram) (2.10.6)\n",
            "Requirement already satisfied: typing-extensions<=5.0,>=4.7.0 in /usr/local/lib/python3.11/dist-packages (from aiogram) (4.12.2)\n",
            "Requirement already satisfied: charset-normalizer<4,>=2 in /usr/local/lib/python3.11/dist-packages (from requests) (3.4.1)\n",
            "Requirement already satisfied: idna<4,>=2.5 in /usr/local/lib/python3.11/dist-packages (from requests) (3.10)\n",
            "Requirement already satisfied: urllib3<3,>=1.21.1 in /usr/local/lib/python3.11/dist-packages (from requests) (2.3.0)\n",
            "Requirement already satisfied: numpy>=1.23.2 in /usr/local/lib/python3.11/dist-packages (from pandas) (1.26.4)\n",
            "Requirement already satisfied: python-dateutil>=2.8.2 in /usr/local/lib/python3.11/dist-packages (from pandas) (2.8.2)\n",
            "Requirement already satisfied: pytz>=2020.1 in /usr/local/lib/python3.11/dist-packages (from pandas) (2025.1)\n",
            "Requirement already satisfied: tzdata>=2022.7 in /usr/local/lib/python3.11/dist-packages (from pandas) (2025.1)\n",
            "Requirement already satisfied: aiohappyeyeballs>=2.3.0 in /usr/local/lib/python3.11/dist-packages (from aiohttp<3.12,>=3.9.0->aiogram) (2.4.6)\n",
            "Requirement already satisfied: aiosignal>=1.1.2 in /usr/local/lib/python3.11/dist-packages (from aiohttp<3.12,>=3.9.0->aiogram) (1.3.2)\n",
            "Requirement already satisfied: attrs>=17.3.0 in /usr/local/lib/python3.11/dist-packages (from aiohttp<3.12,>=3.9.0->aiogram) (25.1.0)\n",
            "Requirement already satisfied: frozenlist>=1.1.1 in /usr/local/lib/python3.11/dist-packages (from aiohttp<3.12,>=3.9.0->aiogram) (1.5.0)\n",
            "Requirement already satisfied: multidict<7.0,>=4.5 in /usr/local/lib/python3.11/dist-packages (from aiohttp<3.12,>=3.9.0->aiogram) (6.1.0)\n",
            "Requirement already satisfied: propcache>=0.2.0 in /usr/local/lib/python3.11/dist-packages (from aiohttp<3.12,>=3.9.0->aiogram) (0.2.1)\n",
            "Requirement already satisfied: yarl<2.0,>=1.17.0 in /usr/local/lib/python3.11/dist-packages (from aiohttp<3.12,>=3.9.0->aiogram) (1.18.3)\n",
            "Requirement already satisfied: annotated-types>=0.6.0 in /usr/local/lib/python3.11/dist-packages (from pydantic<2.11,>=2.4.1->aiogram) (0.7.0)\n",
            "Requirement already satisfied: pydantic-core==2.27.2 in /usr/local/lib/python3.11/dist-packages (from pydantic<2.11,>=2.4.1->aiogram) (2.27.2)\n",
            "Requirement already satisfied: six>=1.5 in /usr/local/lib/python3.11/dist-packages (from python-dateutil>=2.8.2->pandas) (1.17.0)\n"
          ]
        }
      ]
    },
    {
      "cell_type": "code",
      "source": [
        "!pip install selenium\n",
        "!apt-get update\n",
        "!apt-get install -y chromium-chromedriver\n",
        "!cp /usr/lib/chromium-browser/chromedriver /usr/bin"
      ],
      "metadata": {
        "colab": {
          "base_uri": "https://localhost:8080/"
        },
        "id": "xfeTmxfF8vC3",
        "outputId": "34f7fd06-64fa-4f1f-ceff-4d4bd255acec"
      },
      "execution_count": null,
      "outputs": [
        {
          "output_type": "stream",
          "name": "stdout",
          "text": [
            "Requirement already satisfied: selenium in /usr/local/lib/python3.11/dist-packages (4.29.0)\n",
            "Requirement already satisfied: urllib3<3,>=1.26 in /usr/local/lib/python3.11/dist-packages (from urllib3[socks]<3,>=1.26->selenium) (2.3.0)\n",
            "Requirement already satisfied: trio~=0.17 in /usr/local/lib/python3.11/dist-packages (from selenium) (0.29.0)\n",
            "Requirement already satisfied: trio-websocket~=0.9 in /usr/local/lib/python3.11/dist-packages (from selenium) (0.12.1)\n",
            "Requirement already satisfied: certifi>=2021.10.8 in /usr/local/lib/python3.11/dist-packages (from selenium) (2025.1.31)\n",
            "Requirement already satisfied: typing_extensions~=4.9 in /usr/local/lib/python3.11/dist-packages (from selenium) (4.12.2)\n",
            "Requirement already satisfied: websocket-client~=1.8 in /usr/local/lib/python3.11/dist-packages (from selenium) (1.8.0)\n",
            "Requirement already satisfied: attrs>=23.2.0 in /usr/local/lib/python3.11/dist-packages (from trio~=0.17->selenium) (25.1.0)\n",
            "Requirement already satisfied: sortedcontainers in /usr/local/lib/python3.11/dist-packages (from trio~=0.17->selenium) (2.4.0)\n",
            "Requirement already satisfied: idna in /usr/local/lib/python3.11/dist-packages (from trio~=0.17->selenium) (3.10)\n",
            "Requirement already satisfied: outcome in /usr/local/lib/python3.11/dist-packages (from trio~=0.17->selenium) (1.3.0.post0)\n",
            "Requirement already satisfied: sniffio>=1.3.0 in /usr/local/lib/python3.11/dist-packages (from trio~=0.17->selenium) (1.3.1)\n",
            "Requirement already satisfied: wsproto>=0.14 in /usr/local/lib/python3.11/dist-packages (from trio-websocket~=0.9->selenium) (1.2.0)\n",
            "Requirement already satisfied: pysocks!=1.5.7,<2.0,>=1.5.6 in /usr/local/lib/python3.11/dist-packages (from urllib3[socks]<3,>=1.26->selenium) (1.7.1)\n",
            "Requirement already satisfied: h11<1,>=0.9.0 in /usr/local/lib/python3.11/dist-packages (from wsproto>=0.14->trio-websocket~=0.9->selenium) (0.14.0)\n",
            "Hit:1 http://security.ubuntu.com/ubuntu jammy-security InRelease\n",
            "Hit:2 https://cloud.r-project.org/bin/linux/ubuntu jammy-cran40/ InRelease\n",
            "Hit:3 https://developer.download.nvidia.com/compute/cuda/repos/ubuntu2204/x86_64  InRelease\n",
            "Hit:4 https://r2u.stat.illinois.edu/ubuntu jammy InRelease\n",
            "Hit:5 http://archive.ubuntu.com/ubuntu jammy InRelease\n",
            "Hit:6 http://archive.ubuntu.com/ubuntu jammy-updates InRelease\n",
            "Hit:7 https://ppa.launchpadcontent.net/deadsnakes/ppa/ubuntu jammy InRelease\n",
            "Hit:8 http://archive.ubuntu.com/ubuntu jammy-backports InRelease\n",
            "Hit:9 https://ppa.launchpadcontent.net/graphics-drivers/ppa/ubuntu jammy InRelease\n",
            "Hit:10 https://ppa.launchpadcontent.net/ubuntugis/ppa/ubuntu jammy InRelease\n",
            "Reading package lists... Done\n",
            "W: Skipping acquire of configured file 'main/source/Sources' as repository 'https://r2u.stat.illinois.edu/ubuntu jammy InRelease' does not seem to provide it (sources.list entry misspelt?)\n",
            "Reading package lists... Done\n",
            "Building dependency tree... Done\n",
            "Reading state information... Done\n",
            "chromium-chromedriver is already the newest version (1:85.0.4183.83-0ubuntu2.22.04.1).\n",
            "0 upgraded, 0 newly installed, 0 to remove and 33 not upgraded.\n",
            "cp: '/usr/lib/chromium-browser/chromedriver' and '/usr/bin/chromedriver' are the same file\n"
          ]
        }
      ]
    },
    {
      "cell_type": "code",
      "source": [
        "!apt-get update\n",
        "!apt-get remove -y chromium-browser\n",
        "!apt-get install -y chromium chromium-driver\n",
        "!pip install --upgrade selenium\n"
      ],
      "metadata": {
        "colab": {
          "base_uri": "https://localhost:8080/"
        },
        "id": "o_RV2qns9KfP",
        "outputId": "e8bf2251-ac55-482e-b8ff-76928c6a1042"
      },
      "execution_count": null,
      "outputs": [
        {
          "output_type": "stream",
          "name": "stdout",
          "text": [
            "\r0% [Working]\r            \rHit:1 https://cloud.r-project.org/bin/linux/ubuntu jammy-cran40/ InRelease\n",
            "Hit:2 https://developer.download.nvidia.com/compute/cuda/repos/ubuntu2204/x86_64  InRelease\n",
            "Hit:3 http://archive.ubuntu.com/ubuntu jammy InRelease\n",
            "Hit:4 http://archive.ubuntu.com/ubuntu jammy-updates InRelease\n",
            "Hit:5 http://security.ubuntu.com/ubuntu jammy-security InRelease\n",
            "Hit:6 http://archive.ubuntu.com/ubuntu jammy-backports InRelease\n",
            "Hit:7 https://r2u.stat.illinois.edu/ubuntu jammy InRelease\n",
            "Hit:8 https://ppa.launchpadcontent.net/deadsnakes/ppa/ubuntu jammy InRelease\n",
            "Hit:9 https://ppa.launchpadcontent.net/graphics-drivers/ppa/ubuntu jammy InRelease\n",
            "Hit:10 https://ppa.launchpadcontent.net/ubuntugis/ppa/ubuntu jammy InRelease\n",
            "Reading package lists... Done\n",
            "W: Skipping acquire of configured file 'main/source/Sources' as repository 'https://r2u.stat.illinois.edu/ubuntu jammy InRelease' does not seem to provide it (sources.list entry misspelt?)\n",
            "Reading package lists... Done\n",
            "Building dependency tree... Done\n",
            "Reading state information... Done\n",
            "The following packages were automatically installed and are no longer required:\n",
            "  apparmor libfuse3-3 liblzo2-2 snapd squashfs-tools systemd-hwe-hwdb udev\n",
            "Use 'apt autoremove' to remove them.\n",
            "The following packages will be REMOVED:\n",
            "  chromium-browser chromium-chromedriver\n",
            "0 upgraded, 0 newly installed, 2 to remove and 33 not upgraded.\n",
            "After this operation, 243 kB disk space will be freed.\n",
            "(Reading database ... 125391 files and directories currently installed.)\n",
            "Removing chromium-chromedriver (1:85.0.4183.83-0ubuntu2.22.04.1) ...\n",
            "Removing chromium-browser (1:85.0.4183.83-0ubuntu2.22.04.1) ...\n",
            "Processing triggers for mailcap (3.70+nmu1ubuntu1) ...\n",
            "Processing triggers for hicolor-icon-theme (0.17-2) ...\n",
            "Reading package lists... Done\n",
            "Building dependency tree... Done\n",
            "Reading state information... Done\n",
            "Note, selecting 'chromium-chromedriver' instead of 'chromium-driver'\n",
            "Package chromium is not available, but is referred to by another package.\n",
            "This may mean that the package is missing, has been obsoleted, or\n",
            "is only available from another source\n",
            "However the following packages replace it:\n",
            "  chromium-bsu\n",
            "\n",
            "E: Package 'chromium' has no installation candidate\n",
            "Requirement already satisfied: selenium in /usr/local/lib/python3.11/dist-packages (4.29.0)\n",
            "Requirement already satisfied: urllib3<3,>=1.26 in /usr/local/lib/python3.11/dist-packages (from urllib3[socks]<3,>=1.26->selenium) (2.3.0)\n",
            "Requirement already satisfied: trio~=0.17 in /usr/local/lib/python3.11/dist-packages (from selenium) (0.29.0)\n",
            "Requirement already satisfied: trio-websocket~=0.9 in /usr/local/lib/python3.11/dist-packages (from selenium) (0.12.1)\n",
            "Requirement already satisfied: certifi>=2021.10.8 in /usr/local/lib/python3.11/dist-packages (from selenium) (2025.1.31)\n",
            "Requirement already satisfied: typing_extensions~=4.9 in /usr/local/lib/python3.11/dist-packages (from selenium) (4.12.2)\n",
            "Requirement already satisfied: websocket-client~=1.8 in /usr/local/lib/python3.11/dist-packages (from selenium) (1.8.0)\n",
            "Requirement already satisfied: attrs>=23.2.0 in /usr/local/lib/python3.11/dist-packages (from trio~=0.17->selenium) (25.1.0)\n",
            "Requirement already satisfied: sortedcontainers in /usr/local/lib/python3.11/dist-packages (from trio~=0.17->selenium) (2.4.0)\n",
            "Requirement already satisfied: idna in /usr/local/lib/python3.11/dist-packages (from trio~=0.17->selenium) (3.10)\n",
            "Requirement already satisfied: outcome in /usr/local/lib/python3.11/dist-packages (from trio~=0.17->selenium) (1.3.0.post0)\n",
            "Requirement already satisfied: sniffio>=1.3.0 in /usr/local/lib/python3.11/dist-packages (from trio~=0.17->selenium) (1.3.1)\n",
            "Requirement already satisfied: wsproto>=0.14 in /usr/local/lib/python3.11/dist-packages (from trio-websocket~=0.9->selenium) (1.2.0)\n",
            "Requirement already satisfied: pysocks!=1.5.7,<2.0,>=1.5.6 in /usr/local/lib/python3.11/dist-packages (from urllib3[socks]<3,>=1.26->selenium) (1.7.1)\n",
            "Requirement already satisfied: h11<1,>=0.9.0 in /usr/local/lib/python3.11/dist-packages (from wsproto>=0.14->trio-websocket~=0.9->selenium) (0.14.0)\n"
          ]
        }
      ]
    },
    {
      "cell_type": "code",
      "source": [
        "!apt-get update\n",
        "!apt-get remove -y chromium-browser\n",
        "!apt-get install -y chromium chromium-driver\n",
        "!pip install --upgrade selenium\n"
      ],
      "metadata": {
        "id": "48_Pjvgq9x7I"
      },
      "execution_count": null,
      "outputs": []
    },
    {
      "cell_type": "code",
      "source": [
        "pip install --upgrade aiogram\n"
      ],
      "metadata": {
        "colab": {
          "base_uri": "https://localhost:8080/"
        },
        "id": "rRHhIZKqIkd6",
        "outputId": "a6aa987d-7a4f-42e8-d5f2-32394cc9622b"
      },
      "execution_count": null,
      "outputs": [
        {
          "output_type": "stream",
          "name": "stdout",
          "text": [
            "Requirement already satisfied: aiogram in /usr/local/lib/python3.11/dist-packages (3.18.0)\n",
            "Requirement already satisfied: aiofiles<24.2,>=23.2.1 in /usr/local/lib/python3.11/dist-packages (from aiogram) (24.1.0)\n",
            "Requirement already satisfied: aiohttp<3.12,>=3.9.0 in /usr/local/lib/python3.11/dist-packages (from aiogram) (3.11.12)\n",
            "Requirement already satisfied: certifi>=2023.7.22 in /usr/local/lib/python3.11/dist-packages (from aiogram) (2025.1.31)\n",
            "Requirement already satisfied: magic-filter<1.1,>=1.0.12 in /usr/local/lib/python3.11/dist-packages (from aiogram) (1.0.12)\n",
            "Requirement already satisfied: pydantic<2.11,>=2.4.1 in /usr/local/lib/python3.11/dist-packages (from aiogram) (2.10.6)\n",
            "Requirement already satisfied: typing-extensions<=5.0,>=4.7.0 in /usr/local/lib/python3.11/dist-packages (from aiogram) (4.12.2)\n",
            "Requirement already satisfied: aiohappyeyeballs>=2.3.0 in /usr/local/lib/python3.11/dist-packages (from aiohttp<3.12,>=3.9.0->aiogram) (2.4.6)\n",
            "Requirement already satisfied: aiosignal>=1.1.2 in /usr/local/lib/python3.11/dist-packages (from aiohttp<3.12,>=3.9.0->aiogram) (1.3.2)\n",
            "Requirement already satisfied: attrs>=17.3.0 in /usr/local/lib/python3.11/dist-packages (from aiohttp<3.12,>=3.9.0->aiogram) (25.1.0)\n",
            "Requirement already satisfied: frozenlist>=1.1.1 in /usr/local/lib/python3.11/dist-packages (from aiohttp<3.12,>=3.9.0->aiogram) (1.5.0)\n",
            "Requirement already satisfied: multidict<7.0,>=4.5 in /usr/local/lib/python3.11/dist-packages (from aiohttp<3.12,>=3.9.0->aiogram) (6.1.0)\n",
            "Requirement already satisfied: propcache>=0.2.0 in /usr/local/lib/python3.11/dist-packages (from aiohttp<3.12,>=3.9.0->aiogram) (0.2.1)\n",
            "Requirement already satisfied: yarl<2.0,>=1.17.0 in /usr/local/lib/python3.11/dist-packages (from aiohttp<3.12,>=3.9.0->aiogram) (1.18.3)\n",
            "Requirement already satisfied: annotated-types>=0.6.0 in /usr/local/lib/python3.11/dist-packages (from pydantic<2.11,>=2.4.1->aiogram) (0.7.0)\n",
            "Requirement already satisfied: pydantic-core==2.27.2 in /usr/local/lib/python3.11/dist-packages (from pydantic<2.11,>=2.4.1->aiogram) (2.27.2)\n",
            "Requirement already satisfied: idna>=2.0 in /usr/local/lib/python3.11/dist-packages (from yarl<2.0,>=1.17.0->aiohttp<3.12,>=3.9.0->aiogram) (3.10)\n"
          ]
        }
      ]
    },
    {
      "cell_type": "code",
      "source": [
        "import os\n",
        "import json\n",
        "import asyncio\n",
        "import aiohttp\n",
        "import nest_asyncio\n",
        "import urllib.parse\n",
        "import sys\n",
        "import subprocess\n",
        "\n",
        "# Пытаемся импортировать aiogram, если не найден — устанавливаем\n",
        "try:\n",
        "    from aiogram import Bot, Dispatcher, types\n",
        "    from aiogram.filters import Command\n",
        "    from aiogram.fsm.state import State, StatesGroup\n",
        "    from aiogram.fsm.context import FSMContext\n",
        "    from aiogram.fsm.storage.memory import MemoryStorage\n",
        "    from aiogram.client.default import DefaultBotProperties\n",
        "except ModuleNotFoundError:\n",
        "    subprocess.check_call([sys.executable, \"-m\", \"pip\", \"install\", \"aiogram\"])\n",
        "    from aiogram import Bot, Dispatcher, types\n",
        "    from aiogram.filters import Command\n",
        "    from aiogram.fsm.state import State, StatesGroup\n",
        "    from aiogram.fsm.context import FSMContext\n",
        "    from aiogram.fsm.storage.memory import MemoryStorage\n",
        "    from aiogram.client.default import DefaultBotProperties\n",
        "\n",
        "# Загружаем ключи из переменных окружения\n",
        "TELEGRAM_TOKEN = os.getenv(\"TELEGRAM_TOKEN\", \"7247766600:AAGCu9k0vcfDzECX0okvgCUhJxU0lOI7UvU\")\n",
        "PROXY_API_KEY = os.getenv(\"PROXY_API_KEY\", \"sk-n41nzmsVHJ1UC4B2KZy90xadrlPFGl6S\")\n",
        "BASE_URL = \"https://santanaherbals.ru\"\n",
        "\n",
        "# Инициализация бота, диспетчера и хранилища состояний\n",
        "bot = Bot(token=TELEGRAM_TOKEN, default=DefaultBotProperties(parse_mode=\"HTML\"))\n",
        "storage = MemoryStorage()\n",
        "dp = Dispatcher(storage=storage)\n",
        "\n",
        "# Группа состояний для активации разговора\n",
        "class ConversationStates(StatesGroup):\n",
        "    active = State()\n",
        "\n",
        "# Роль бота с правилами ответа для GPT (не выводится пользователю)\n",
        "BOT_ROLE = (\n",
        "    \"Ты - аюрведический консультант. Отвечай кратко и понятно, используя принципы Аюрведы.\\n\\n\"\n",
        "    \"**Правила ответа:**\\n\"\n",
        "    \"1. Если пользователь спрашивает о заболевании, состоянии или ищет травы для лечения (например, \\\"что помогает от...\\\", \\\"аюрведа при...\\\", \\\"лучшие травы для...\\\"):\\n\"\n",
        "    \"   - Дай объяснение на 600-800 символов причины дисбаланса в терминах дош (Вата, Питта, Капха).\\n\"\n",
        "    \"   - Опиши, какие доши выходят из равновесия и их симптомы.\\n\"\n",
        "    \"   - В конце ответа выдай JSON-массив из 4–6 подходящих аюрведических трав на русском языке без пояснений.\\n\"\n",
        "    \"   - Пример ответа:\\n\"\n",
        "    \"     В Аюрведе бессонница часто связана с дисбалансом Вата-доши, которая отвечает за нервную систему. При избытке Ваты человек может испытывать тревожность, сухость кожи, напряжение в теле и поверхностный сон. Для восстановления баланса рекомендуется тёплая, питательная пища, регулярный режим сна и натуральные травы.\\n\"\n",
        "    \"     [\\\"брахми\\\", \\\"ашвагандха\\\", \\\"шатавари\\\", \\\"мускатный орех\\\"]\\n\\n\"\n",
        "    \"2. Если пользователь спрашивает о конкретной траве или продукте (например, \\\"От чего ашваганда?\\\", \\\"Для чего трифала?\\\"):\\n\"\n",
        "    \"   - Дай описание растения на 600-800 символов, его влияние на доши и основные полезные свойства.\\n\"\n",
        "    \"   - Не включай список других трав.\\n\"\n",
        "    \"   - В JSON-массиве укажи только запрашиваемое растение.\\n\"\n",
        "    \"   - Пример ответа:\\n\"\n",
        "    \"     Ашваганда, также известная как индийский женьшень, считается одной из лучших адаптогенных трав в Аюрведе. Она балансирует Вата и Капха доши, помогая организму справляться со стрессом, улучшает сон и повышает уровень энергии.\\n\"\n",
        "    \"     [\\\"ашвагандха\\\"]\\n\\n\"\n",
        "    \"**Дополнительные правила:**\\n\"\n",
        "    \"- Если запрос касается конкретного растения, JSON должен содержать только это растение.\\n\"\n",
        "    \"- Если запрос общий (о заболевании, симптомах, состоянии), JSON должен содержать список из 4–6 трав.\\n\"\n",
        "    \"- Не давай медицинских диагнозов, а только объясняй состояния с точки зрения Аюрведы.\\n\"\n",
        "    \"Всегда следуй этим правилам и не добавляй ничего лишнего.\"\n",
        "    \"Рекомендуй обратиться за полноценной консультацией и пройти полную диагностику\"\n",
        ")\n",
        "\n",
        "# Функция для запроса рекомендаций через GPT\n",
        "async def gpt_suggest_herbs(query: str) -> str:\n",
        "    url = \"https://api.proxyapi.ru/openai/v1/chat/completions\"\n",
        "    headers = {\n",
        "        \"Authorization\": f\"Bearer {PROXY_API_KEY}\",\n",
        "        \"Content-Type\": \"application/json\"\n",
        "    }\n",
        "    # Передаем правила вместе с запросом\n",
        "    prompt = f\"\"\"\n",
        "{BOT_ROLE}\n",
        "Клиент спрашивает: \"{query}\"\n",
        "\"\"\"\n",
        "    data = {\n",
        "        \"model\": \"gpt-4o\",\n",
        "        \"messages\": [{\"role\": \"user\", \"content\": prompt}],\n",
        "        \"temperature\": 0.7\n",
        "    }\n",
        "    try:\n",
        "        async with aiohttp.ClientSession() as session:\n",
        "            async with session.post(url, json=data, headers=headers) as response:\n",
        "                if response.status == 200:\n",
        "                    result = await response.json()\n",
        "                    return result[\"choices\"][0][\"message\"][\"content\"]\n",
        "                else:\n",
        "                    return \"❌ Ошибка в обработке запроса. Попробуйте позже.\"\n",
        "    except Exception as e:\n",
        "        return f\"❌ Ошибка: {str(e)}\"\n",
        "\n",
        "# Функция для извлечения JSON-массива трав из текста ответа\n",
        "def extract_herbs_json(text: str) -> (str, list):\n",
        "    text = text.replace(\"```json\", \"\").replace(\"```\", \"\")\n",
        "    start_index = text.find('[')\n",
        "    end_index = text.find(']', start_index)\n",
        "    if start_index == -1 or end_index == -1:\n",
        "        return (text, [])\n",
        "    description = text[:start_index].strip()\n",
        "    json_str = text[start_index:end_index + 1]\n",
        "    try:\n",
        "        herbs_list = json.loads(json_str)\n",
        "    except json.JSONDecodeError:\n",
        "        herbs_list = []\n",
        "    return (description, herbs_list)\n",
        "\n",
        "# Обработчик активации: бот активируется только после сообщения \"Гуруджи\"\n",
        "@dp.message(lambda message: message.text.strip().lower() == \"гуруджи\")\n",
        "async def activate_conversation(message: types.Message, state: FSMContext):\n",
        "    await state.set_state(ConversationStates.active)\n",
        "    # Приветствие без вывода правил\n",
        "    await message.answer(\"Привет! Аюрведический консультант к вашим услугам. Чем могу помочь?\")\n",
        "\n",
        "# Обработчик запроса: срабатывает только если чат активирован\n",
        "@dp.message()\n",
        "async def handle_herb_query(message: types.Message, state: FSMContext):\n",
        "    current_state = await state.get_state()\n",
        "    if current_state != ConversationStates.active.state:\n",
        "        return\n",
        "    query = message.text.strip()\n",
        "    expert_response = await gpt_suggest_herbs(query)\n",
        "    description, herbs_list = extract_herbs_json(expert_response)\n",
        "\n",
        "    formatted_text = f\"<b>Описание:</b>\\n{description}\\n\\n\"\n",
        "    if herbs_list:\n",
        "        formatted_text += \"<b>Подходящие травы:</b>\\n\"\n",
        "        for herb in herbs_list:\n",
        "            search_link = f'<a href=\"{BASE_URL}/catalog/?q={urllib.parse.quote(herb)}\">Найти на сайте</a>'\n",
        "            formatted_text += f\"• <b>{herb}</b> — {search_link}\\n\"\n",
        "    else:\n",
        "        formatted_text += \"Не удалось извлечь список трав из ответа.\"\n",
        "\n",
        "    await message.answer(formatted_text, disable_web_page_preview=True)\n",
        "\n",
        "# Функция для запуска бота\n",
        "async def main():\n",
        "    await dp.start_polling(bot)\n",
        "\n",
        "if __name__ == '__main__':\n",
        "    nest_asyncio.apply()\n",
        "    asyncio.run(main())\n"
      ],
      "metadata": {
        "colab": {
          "base_uri": "https://localhost:8080/"
        },
        "id": "xEd13Dgh4Wve",
        "outputId": "c6431353-3516-4a71-bb05-a40d9d617fd5"
      },
      "execution_count": null,
      "outputs": [
        {
          "output_type": "stream",
          "name": "stderr",
          "text": [
            "WARNING:aiogram.dispatcher:Received SIGINT signal\n"
          ]
        }
      ]
    }
  ]
}